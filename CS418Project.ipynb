{
 "cells": [
  {
   "cell_type": "markdown",
   "metadata": {},
   "source": [
    "# Introduction\n",
    "We are taking a look at data so see what affects the temperature in Chicago as well as the trends related to the temperature. We are also looking at different factors that relate to the tempeature change and seeing how that affects the temperature and what specific instance."
   ]
  },
  {
   "cell_type": "markdown",
   "metadata": {},
   "source": [
    "# Changes\n",
    "We made minor changes in terms of not using all the datasets we initally had due to it becoming hard to group the datasets together with a specific unique indentifier. Another minor change we made was we're more focusing on the trend related to the tempeature change instead of using classification to predict the tempeture at that time versus what it actually was."
   ]
  },
  {
   "cell_type": "markdown",
   "metadata": {},
   "source": [
    "# Data\n",
    "For our initial stages, we just imported the dataset csv file and then made that into a dataframe and took selected columns that we needed to form a visualization that can corroborate our hypothesis that we're trying to make. Also, with our intial visualization, we took into account the number of complaints and then will compare that with the temperature during the time and see if there's any correlation with that."
   ]
  },
  {
   "cell_type": "markdown",
   "metadata": {},
   "source": [
    "# Exploratory Data Analysis\n",
    "PRELIMINARY DATA VISUALIZATIONS AND ANALYSIS"
   ]
  },
  {
   "cell_type": "markdown",
   "metadata": {},
   "source": [
    "# Hypothesis\n",
    "One hypothesis that we had was that was temperatures increased throughout the year, so would complaints of the air quality. We tested this hypothesis by creating two visualizations. One for the average temperatures in Chicago per month in 2021, and another for the number of complaints and their types per month in 2021. What we saw from the graphs showed some promise to this hypothesis. We saw that both complaints of air quality and average temperatures were highest in month 8 (August) and also that complaints of air quality were typically highest in the 4-9 months which are during spring and summer (months with the highest temperatures). We believe that investigating further with more years could help us determine if there is a strong coorelation here."
   ]
  },
  {
   "cell_type": "markdown",
   "metadata": {},
   "source": [
    "![Alt text](complaints_graph.png)"
   ]
  },
  {
   "cell_type": "markdown",
   "metadata": {},
   "source": [
    "![Alt text](temp_graph.png)"
   ]
  },
  {
   "cell_type": "markdown",
   "metadata": {},
   "source": [
    "# Machine Learning Analysis\n",
    "MACHINE LEARNING ANALYSIS ON OUR DATA (INCLUDING BASELINE COMPARISON AND INTERPRITATION OF RESULTS)"
   ]
  },
  {
   "cell_type": "markdown",
   "metadata": {},
   "source": [
    "# Reflection\n",
    "DISSCUSSION OF THE FOLLOWING:\n",
    "- So far the most challenging part is gathering all of the data and making visualizations on them. This was difficult because there was a few different datasets we had and it was hard to combine them all using unique identifiers. It was also difficult to make the graphs that we could use to easily compare the data and see patterns.\n",
    "- Initial insights: We believe that air quality and the rise in temperature are correlated. We believe that as the temperature rises, the quality of air decreases, and so far the data that we do have does confirm this.  We believe there are many factors to the rise of temperature and this decrease in air quality including water pollutiuon, air pollution, noise complaints, and more. So far our data does show a correlation between this in 2021. We still need to continue gathering and comparing more data to confirm this though.\n",
    "- We have a little bit of concrete results to back this claim. Our data shows that as complaints about air quality is at its highest, the average temperature is also at it's highest in 2021. This is not enough to show there is a correlation between this but we are estimating that after we obtain and compare more data, we will continue to see this trend.\n",
    "- Going forward, our current biggest problem will be gathering and comparing more data to prove our hypothesis. We will need to compare data for many years and see if there is still a correlation year by year. There is also a lot of data we must sort through and pick out what is useful to us and to format.\n",
    "- I think we are on track but we plan to dedicate more time to sorting through the data, formatting, and visualizing this data. This part can be lengthy but it is important we get accurate results and good visualizations to show evidence of our claims.\n",
    "- Based on our initial exploration, we believe it is worth proceeding with our project. We have a lot of public data that we are able to access and use to show our hypothesis. Also, the data that we have looked at and comapred does show some promise that our hypothesis is indeed accurate. We believe that by proceeding with this project we will find useful information about potential reasons for the rise in temperature and how it affects air quality."
   ]
  },
  {
   "cell_type": "markdown",
   "metadata": {},
   "source": [
    "# Next Step\n",
    "Our next steps is to now focus in on what we have to compare and show if there's any correlation within it or not. We will start to combine data together in terms of relevant information and see if there will be a direct/indirect or random relationship between the variables and see if our original hypothesis we had is valid or not."
   ]
  },
  {
   "cell_type": "code",
   "execution_count": 1,
   "metadata": {},
   "outputs": [
    {
     "data": {
      "text/html": [
       "<div>\n",
       "<style scoped>\n",
       "    .dataframe tbody tr th:only-of-type {\n",
       "        vertical-align: middle;\n",
       "    }\n",
       "\n",
       "    .dataframe tbody tr th {\n",
       "        vertical-align: top;\n",
       "    }\n",
       "\n",
       "    .dataframe thead th {\n",
       "        text-align: right;\n",
       "    }\n",
       "</style>\n",
       "<table border=\"1\" class=\"dataframe\">\n",
       "  <thead>\n",
       "    <tr style=\"text-align: right;\">\n",
       "      <th></th>\n",
       "      <th>Data Year</th>\n",
       "      <th>ID</th>\n",
       "      <th>Property Name</th>\n",
       "      <th>Reporting Status</th>\n",
       "      <th>Address</th>\n",
       "      <th>ZIP Code</th>\n",
       "      <th>Chicago Energy Rating</th>\n",
       "      <th>Exempt From Chicago Energy Rating</th>\n",
       "      <th>Community Area</th>\n",
       "      <th>Primary Property Type</th>\n",
       "      <th>...</th>\n",
       "      <th>Site EUI (kBtu/sq ft)</th>\n",
       "      <th>Source EUI (kBtu/sq ft)</th>\n",
       "      <th>Weather Normalized Site EUI (kBtu/sq ft)</th>\n",
       "      <th>Weather Normalized Source EUI (kBtu/sq ft)</th>\n",
       "      <th>Total GHG Emissions (Metric Tons CO2e)</th>\n",
       "      <th>GHG Intensity (kg CO2e/sq ft)</th>\n",
       "      <th>Latitude</th>\n",
       "      <th>Longitude</th>\n",
       "      <th>Location</th>\n",
       "      <th>Row_ID</th>\n",
       "    </tr>\n",
       "  </thead>\n",
       "  <tbody>\n",
       "    <tr>\n",
       "      <th>0</th>\n",
       "      <td>2020</td>\n",
       "      <td>252064</td>\n",
       "      <td>Mansueto Library</td>\n",
       "      <td>Submitted Data</td>\n",
       "      <td>1100 E 57th St</td>\n",
       "      <td>60637</td>\n",
       "      <td>2.0</td>\n",
       "      <td>False</td>\n",
       "      <td>HYDE PARK</td>\n",
       "      <td>Library</td>\n",
       "      <td>...</td>\n",
       "      <td>240.8</td>\n",
       "      <td>323.6</td>\n",
       "      <td>246.0</td>\n",
       "      <td>329.9</td>\n",
       "      <td>1160.9</td>\n",
       "      <td>18.1</td>\n",
       "      <td>41.792213</td>\n",
       "      <td>-87.599950</td>\n",
       "      <td>(41.79221307, -87.59994981)</td>\n",
       "      <td>2020-252064</td>\n",
       "    </tr>\n",
       "    <tr>\n",
       "      <th>1</th>\n",
       "      <td>2020</td>\n",
       "      <td>232458</td>\n",
       "      <td>Harper Square Cooperative</td>\n",
       "      <td>Submitted Data</td>\n",
       "      <td>4800 - 4850 S Lake Park Ave</td>\n",
       "      <td>60615</td>\n",
       "      <td>1.0</td>\n",
       "      <td>False</td>\n",
       "      <td>KENWOOD</td>\n",
       "      <td>Multifamily Housing</td>\n",
       "      <td>...</td>\n",
       "      <td>95.5</td>\n",
       "      <td>146.0</td>\n",
       "      <td>100.3</td>\n",
       "      <td>150.7</td>\n",
       "      <td>4871.7</td>\n",
       "      <td>7.8</td>\n",
       "      <td>41.807475</td>\n",
       "      <td>-87.591264</td>\n",
       "      <td>(41.80747487, -87.59126397)</td>\n",
       "      <td>2020-232458</td>\n",
       "    </tr>\n",
       "    <tr>\n",
       "      <th>2</th>\n",
       "      <td>2020</td>\n",
       "      <td>254616</td>\n",
       "      <td>Former Coyne College</td>\n",
       "      <td>Submitted Data</td>\n",
       "      <td>330 N Green St</td>\n",
       "      <td>60607</td>\n",
       "      <td>2.0</td>\n",
       "      <td>False</td>\n",
       "      <td>NEAR WEST SIDE</td>\n",
       "      <td>Office</td>\n",
       "      <td>...</td>\n",
       "      <td>55.5</td>\n",
       "      <td>148.3</td>\n",
       "      <td>56.7</td>\n",
       "      <td>151.8</td>\n",
       "      <td>4581.4</td>\n",
       "      <td>8.2</td>\n",
       "      <td>41.873335</td>\n",
       "      <td>-87.651021</td>\n",
       "      <td>(41.873335, -87.65102071)</td>\n",
       "      <td>2020-254616</td>\n",
       "    </tr>\n",
       "    <tr>\n",
       "      <th>3</th>\n",
       "      <td>2020</td>\n",
       "      <td>103812</td>\n",
       "      <td>400 W Superior St</td>\n",
       "      <td>Submitted Data</td>\n",
       "      <td>400 W Superior St</td>\n",
       "      <td>60654</td>\n",
       "      <td>3.0</td>\n",
       "      <td>False</td>\n",
       "      <td>NEAR NORTH SIDE</td>\n",
       "      <td>Office</td>\n",
       "      <td>...</td>\n",
       "      <td>61.4</td>\n",
       "      <td>151.8</td>\n",
       "      <td>63.0</td>\n",
       "      <td>154.8</td>\n",
       "      <td>1092.1</td>\n",
       "      <td>8.4</td>\n",
       "      <td>41.895752</td>\n",
       "      <td>-87.638901</td>\n",
       "      <td>(41.89575232, -87.638901)</td>\n",
       "      <td>2020-103812</td>\n",
       "    </tr>\n",
       "    <tr>\n",
       "      <th>4</th>\n",
       "      <td>2020</td>\n",
       "      <td>254073</td>\n",
       "      <td>Blue Moon Lofts</td>\n",
       "      <td>Submitted Data</td>\n",
       "      <td>215 N. Aberdeen St.</td>\n",
       "      <td>60607</td>\n",
       "      <td>4.0</td>\n",
       "      <td>False</td>\n",
       "      <td>NEAR WEST SIDE</td>\n",
       "      <td>Multifamily Housing</td>\n",
       "      <td>...</td>\n",
       "      <td>29.4</td>\n",
       "      <td>64.9</td>\n",
       "      <td>29.6</td>\n",
       "      <td>64.3</td>\n",
       "      <td>295.8</td>\n",
       "      <td>3.6</td>\n",
       "      <td>41.874295</td>\n",
       "      <td>-87.650175</td>\n",
       "      <td>(41.87429514, -87.65017516)</td>\n",
       "      <td>2020-254073</td>\n",
       "    </tr>\n",
       "  </tbody>\n",
       "</table>\n",
       "<p>5 rows × 30 columns</p>\n",
       "</div>"
      ],
      "text/plain": [
       "   Data Year      ID              Property Name Reporting Status  \\\n",
       "0       2020  252064           Mansueto Library   Submitted Data   \n",
       "1       2020  232458  Harper Square Cooperative   Submitted Data   \n",
       "2       2020  254616       Former Coyne College   Submitted Data   \n",
       "3       2020  103812          400 W Superior St   Submitted Data   \n",
       "4       2020  254073            Blue Moon Lofts   Submitted Data   \n",
       "\n",
       "                       Address ZIP Code  Chicago Energy Rating  \\\n",
       "0               1100 E 57th St    60637                    2.0   \n",
       "1  4800 - 4850 S Lake Park Ave    60615                    1.0   \n",
       "2               330 N Green St    60607                    2.0   \n",
       "3            400 W Superior St    60654                    3.0   \n",
       "4          215 N. Aberdeen St.    60607                    4.0   \n",
       "\n",
       "  Exempt From Chicago Energy Rating   Community Area Primary Property Type  \\\n",
       "0                             False        HYDE PARK               Library   \n",
       "1                             False          KENWOOD   Multifamily Housing   \n",
       "2                             False   NEAR WEST SIDE                Office   \n",
       "3                             False  NEAR NORTH SIDE                Office   \n",
       "4                             False   NEAR WEST SIDE   Multifamily Housing   \n",
       "\n",
       "   ...  Site EUI (kBtu/sq ft)  Source EUI (kBtu/sq ft)  \\\n",
       "0  ...                  240.8                    323.6   \n",
       "1  ...                   95.5                    146.0   \n",
       "2  ...                   55.5                    148.3   \n",
       "3  ...                   61.4                    151.8   \n",
       "4  ...                   29.4                     64.9   \n",
       "\n",
       "   Weather Normalized Site EUI (kBtu/sq ft)  \\\n",
       "0                                     246.0   \n",
       "1                                     100.3   \n",
       "2                                      56.7   \n",
       "3                                      63.0   \n",
       "4                                      29.6   \n",
       "\n",
       "   Weather Normalized Source EUI (kBtu/sq ft)  \\\n",
       "0                                       329.9   \n",
       "1                                       150.7   \n",
       "2                                       151.8   \n",
       "3                                       154.8   \n",
       "4                                        64.3   \n",
       "\n",
       "   Total GHG Emissions (Metric Tons CO2e)  GHG Intensity (kg CO2e/sq ft)  \\\n",
       "0                                  1160.9                           18.1   \n",
       "1                                  4871.7                            7.8   \n",
       "2                                  4581.4                            8.2   \n",
       "3                                  1092.1                            8.4   \n",
       "4                                   295.8                            3.6   \n",
       "\n",
       "    Latitude  Longitude                     Location       Row_ID  \n",
       "0  41.792213 -87.599950  (41.79221307, -87.59994981)  2020-252064  \n",
       "1  41.807475 -87.591264  (41.80747487, -87.59126397)  2020-232458  \n",
       "2  41.873335 -87.651021    (41.873335, -87.65102071)  2020-254616  \n",
       "3  41.895752 -87.638901    (41.89575232, -87.638901)  2020-103812  \n",
       "4  41.874295 -87.650175  (41.87429514, -87.65017516)  2020-254073  \n",
       "\n",
       "[5 rows x 30 columns]"
      ]
     },
     "execution_count": 1,
     "metadata": {},
     "output_type": "execute_result"
    }
   ],
   "source": [
    "import pandas as pd\n",
    "\n",
    "df = pd.read_csv('Chicago_Energy_Benchmarking.csv')\n",
    "df.head()"
   ]
  },
  {
   "cell_type": "code",
   "execution_count": null,
   "metadata": {},
   "outputs": [],
   "source": []
  }
 ],
 "metadata": {
  "kernelspec": {
   "display_name": "Python 3 (ipykernel)",
   "language": "python",
   "name": "python3"
  },
  "language_info": {
   "codemirror_mode": {
    "name": "ipython",
    "version": 3
   },
   "file_extension": ".py",
   "mimetype": "text/x-python",
   "name": "python",
   "nbconvert_exporter": "python",
   "pygments_lexer": "ipython3",
   "version": "3.9.7"
  },
  "vscode": {
   "interpreter": {
    "hash": "31f2aee4e71d21fbe5cf8b01ff0e069b9275f58929596ceb00d14d90e3e16cd6"
   }
  }
 },
 "nbformat": 4,
 "nbformat_minor": 2
}
