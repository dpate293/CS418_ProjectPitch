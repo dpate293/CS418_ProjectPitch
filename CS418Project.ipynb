{
 "cells": [
  {
   "cell_type": "markdown",
   "metadata": {},
   "source": [
    "# Introduction\n",
    "We are taking a look at data so see what affects the temperature in Chicago as well as the trends related to the temperature. We are also looking at different factors that relate to the tempeature change and seeing how that affects the temperature and what specific instance."
   ]
  },
  {
   "cell_type": "markdown",
   "metadata": {},
   "source": [
    "# Changes\n",
    "CHANGES MADE TO PROJECT PROPOSAL"
   ]
  },
  {
   "cell_type": "markdown",
   "metadata": {},
   "source": [
    "# Data\n",
    "EXPLINATION OF HOW DATA WAS PREPARED"
   ]
  },
  {
   "cell_type": "markdown",
   "metadata": {},
   "source": [
    "# Exploratory Data Analysis\n",
    "PRELIMINARY DATA VISUALIZATIONS AND ANALYSIS"
   ]
  },
  {
   "cell_type": "markdown",
   "metadata": {},
   "source": [
    "# Hypothesis\n",
    "VISUALIZATION THAT SHOWS AT LEAST ONE HYPOTHESIS AND AN EXPLINATION "
   ]
  },
  {
   "cell_type": "markdown",
   "metadata": {},
   "source": [
    "# Machine Learning Analysis\n",
    "MACHINE LEARNING ANALYSIS ON OUR DATA (INCLUDING BASELINE COMPARISON AND INTERPRITATION OF RESULTS)"
   ]
  },
  {
   "cell_type": "markdown",
   "metadata": {},
   "source": [
    "# Reflection\n",
    "DISSCUSSION OF THE FOLLOWING:\n",
    "- What is the most challenging part of the project that you’ve encountered so far?\n",
    "- What are your initial insights?\n",
    "- Are there any concrete results you can show at this point? If not, why not?\n",
    "- Going forward, what are the current biggest problems you’re facing?\n",
    "- Do you think you are on track with your project? If not, what parts do you need to\n",
    "dedicate more time to?\n",
    "- Given your initial exploration of the data, is it worth proceeding with your project,\n",
    "why? If not, how will you move forward (method, data etc)?"
   ]
  },
  {
   "cell_type": "markdown",
   "metadata": {},
   "source": [
    "# Next Step\n",
    "PLANS AND GOALS FOR THE NEXT MONTH"
   ]
  }
 ],
 "metadata": {
  "language_info": {
   "name": "python"
  },
  "orig_nbformat": 4
 },
 "nbformat": 4,
 "nbformat_minor": 2
}
