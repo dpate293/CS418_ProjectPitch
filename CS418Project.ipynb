{
 "cells": [
  {
   "cell_type": "markdown",
   "metadata": {},
   "source": [
    "# Introduction\n",
    "We are taking a look at data so see what affects the temperature in Chicago as well as the trends related to the temperature. We are also looking at different factors that relate to the tempeature change and seeing how that affects the temperature and what specific instance."
   ]
  },
  {
   "cell_type": "markdown",
   "metadata": {},
   "source": [
    "# Changes\n",
    "We made minor changes in terms of not using all the datasets we initally had due to it becoming hard to group the datasets together with a specific unique indentifier. Another minor change we made was we're more focusing on the trend related to the tempeature change instead of using classification to predict the tempeture at that time versus what it actually was."
   ]
  },
  {
   "cell_type": "markdown",
   "metadata": {},
   "source": [
    "# Data\n",
    "For our initial stages, we just imported the dataset csv file and then made that into a dataframe and took selected columns that we needed to form a visualization that can corroborate our hypothesis that we're trying to make. Also, with our intial visualization, we took into account the number of complaints and then will compare that with the temperature during the time and see if there's any correlation with that."
   ]
  },
  {
   "cell_type": "markdown",
   "metadata": {},
   "source": [
    "# Exploratory Data Analysis\n",
    "PRELIMINARY DATA VISUALIZATIONS AND ANALYSIS"
   ]
  },
  {
   "cell_type": "markdown",
   "metadata": {},
   "source": [
    "# Hypothesis\n",
    "One hypothesis that we had was that was temperatures increased throughout the year, so would complaints of the air quality. We tested this hypothesis by creating two visualizations. One for the average temperatures in Chicago per month in 2021, and another for the number of complaints and their types per month in 2021. What we saw from the graphs showed some promise to this hypothesis. We saw that both complaints of air quality and average temperatures were highest in month 8 (August) and also that complaints of air quality were typically highest in the 4-9 months which are during spring and summer (months with the highest temperatures). We believe that investigating further with more years could help us determine if there is a strong coorelation here."
   ]
  },
  {
   "cell_type": "markdown",
   "metadata": {},
   "source": [
    "![Alt text](complaints_graph.png)"
   ]
  },
  {
   "cell_type": "markdown",
   "metadata": {},
   "source": [
    "![Alt text](temp_graph.png)"
   ]
  },
  {
   "cell_type": "markdown",
   "metadata": {},
   "source": [
    "# Machine Learning Analysis\n",
    "MACHINE LEARNING ANALYSIS ON OUR DATA (INCLUDING BASELINE COMPARISON AND INTERPRITATION OF RESULTS)"
   ]
  },
  {
   "cell_type": "markdown",
   "metadata": {},
   "source": [
    "# Reflection\n",
    "DISSCUSSION OF THE FOLLOWING:\n",
    "- So far the most challenging part is gathering all of the data and making visualizations on them. This was difficult because there was a few different datasets we had and it was hard to combine them all using unique identifiers. It was also difficult to make the graphs that we could use to easily compare the data and see patterns.\n",
    "- Initial insights: We believe that air quality and the rise in temperature are correlated. We believe that as the temperature rises, the quality of air decreases, and so far the data that we do have does confirm this.  We believe there are many factors to the rise of temperature and this decrease in air quality including water pollutiuon, air pollution, noise complaints, and more. So far our data does show a correlation between this in 2021. We still need to continue gathering and comparing more data to confirm this though.\n",
    "- We have a little bit of concrete results to back this claim. Our data shows that as complaints about air quality is at its highest, the average temperature is also at it's highest in 2021. This is not enough to show there is a correlation between this but we are estimating that after we obtain and compare more data, we will continue to see this trend.\n",
    "- Going forward, our current biggest problem will be gathering and comparing more data to prove our hypothesis. We will need to compare data for many years and see if there is still a correlation year by year. There is also a lot of data we must sort through and pick out what is useful to us and to format.\n",
    "- I think we are on track but we plan to dedicate more time to sorting through the data, formatting, and visualizing this data. This part can be lengthy but it is important we get accurate results and good visualizations to show evidence of our claims.\n",
    "- Based on our initial exploration, we believe it is worth proceeding with our project. We have a lot of public data that we are able to access and use to show our hypothesis. Also, the data that we have looked at and comapred does show some promise that our hypothesis is indeed accurate. We believe that by proceeding with this project we will find useful information about potential reasons for the rise in temperature and how it affects air quality."
   ]
  },
  {
   "cell_type": "markdown",
   "metadata": {},
   "source": [
    "# Next Step\n",
    "Our next steps is to now focus in on what we have to compare and show if there's any correlation within it or not. We will start to combine data together in terms of relevant information and see if there will be a direct/indirect or random relationship between the variables and see if our original hypothesis we had is valid or not."
   ]
  }
 ],
 "metadata": {
  "kernelspec": {
   "display_name": "Python 3.8.9 64-bit",
   "language": "python",
   "name": "python3"
  },
  "language_info": {
   "name": "python",
   "version": "3.8.9"
  },
  "orig_nbformat": 4,
  "vscode": {
   "interpreter": {
    "hash": "31f2aee4e71d21fbe5cf8b01ff0e069b9275f58929596ceb00d14d90e3e16cd6"
   }
  }
 },
 "nbformat": 4,
 "nbformat_minor": 2
}
