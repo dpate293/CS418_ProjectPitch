{
 "cells": [
  {
   "cell_type": "markdown",
   "metadata": {},
   "source": [
    "# Introduction\n",
    "We are taking a look at data so see what affects the temperature in Chicago as well as the trends related to the temperature. We are also looking at different factors that relate to the tempeature change and seeing how that affects the temperature and what specific instance."
   ]
  },
  {
   "cell_type": "markdown",
   "metadata": {},
   "source": [
    "# Changes\n",
    "We made minor changes in terms of not using all the datasets we initally had due to it becoming hard to group the datasets together with a specific unique indentifier. Another minor change we made was we're more focusing on the trend related to the tempeature change instead of using classification to predict the tempeture at that time versus what it actually was."
   ]
  },
  {
   "cell_type": "markdown",
   "metadata": {},
   "source": [
    "# Data\n",
    "For our initial stages, we just imported the dataset csv file and then made that into a dataframe and took selected columns that we needed to form a visualization that can corroborate our hypothesis that we're trying to make. Also, with our intial visualization, we took into account the number of complaints and then will compare that with the temperature during the time and see if there's any correlation with that."
   ]
  },
  {
   "cell_type": "markdown",
   "metadata": {},
   "source": [
    "# Exploratory Data Analysis\n",
    "PRELIMINARY DATA VISUALIZATIONS AND ANALYSIS"
   ]
  },
  {
   "cell_type": "markdown",
   "metadata": {},
   "source": [
    "# Hypothesis\n",
    "VISUALIZATION THAT SHOWS AT LEAST ONE HYPOTHESIS AND AN EXPLINATION "
   ]
  },
  {
   "cell_type": "markdown",
   "metadata": {},
   "source": [
    "# Machine Learning Analysis\n",
    "MACHINE LEARNING ANALYSIS ON OUR DATA (INCLUDING BASELINE COMPARISON AND INTERPRITATION OF RESULTS)"
   ]
  },
  {
   "cell_type": "markdown",
   "metadata": {},
   "source": [
    "# Reflection\n",
    "DISSCUSSION OF THE FOLLOWING:\n",
    "- What is the most challenging part of the project that you’ve encountered so far?\n",
    "- What are your initial insights?\n",
    "- Are there any concrete results you can show at this point? If not, why not?\n",
    "- Going forward, what are the current biggest problems you’re facing?\n",
    "- Do you think you are on track with your project? If not, what parts do you need to\n",
    "dedicate more time to?\n",
    "- Given your initial exploration of the data, is it worth proceeding with your project,\n",
    "why? If not, how will you move forward (method, data etc)?"
   ]
  },
  {
   "cell_type": "markdown",
   "metadata": {},
   "source": [
    "# Next Step\n",
    "Our next steps is to now focus in on what we have to compare and show if there's any correlation within it or not. We will start to combine data together in terms of relevant information and see if there will be a direct/indirect or random relationship between the variables and see if our original hypothesis we had is valid or not."
   ]
  }
 ],
 "metadata": {
  "language_info": {
   "name": "python"
  },
  "orig_nbformat": 4
 },
 "nbformat": 4,
 "nbformat_minor": 2
}
